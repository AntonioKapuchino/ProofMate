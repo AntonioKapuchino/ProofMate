{
  "nbformat": 4,
  "nbformat_minor": 0,
  "metadata": {
    "kernelspec": {
      "display_name": "Python 3",
      "language": "python",
      "name": "python3"
    },
    "language_info": {
      "codemirror_mode": {
        "name": "ipython",
        "version": 3
      },
      "file_extension": ".py",
      "mimetype": "text/x-python",
      "name": "python",
      "nbconvert_exporter": "python",
      "pygments_lexer": "ipython3",
      "version": "3.7.3"
    },
    "colab": {
      "provenance": []
    }
  },
  "cells": [
    {
      "cell_type": "markdown",
      "metadata": {
        "id": "NWxN--Ciycml"
      },
      "source": [
        "# Практическое занятие 1\n",
        "# Компьютерный практикум по алгебре на Python"
      ]
    },
    {
      "cell_type": "markdown",
      "metadata": {
        "id": "JITt7G7iycmp"
      },
      "source": [
        "https://docs.sympy.org/latest/tutorial/intro.html"
      ]
    },
    {
      "cell_type": "code",
      "metadata": {
        "id": "VKvRy_UGycmq"
      },
      "source": [
        "from sympy import sqrt, sin, cos, tan, atan, pi, E, Symbol, symbols, Matrix\n",
        "from sympy import expand, simplify, factor, collect, zeros, ones, eye, diag"
      ],
      "execution_count": null,
      "outputs": []
    },
    {
      "cell_type": "markdown",
      "metadata": {
        "id": "x3mNO8qJycmr"
      },
      "source": [
        "## Действия с числами, числовые выражения\n",
        "Об основных типах данных Python 3.10 читайте здесь:\n",
        "https://docs.python.org/3/reference/datamodel.html#index-19\n",
        "\n",
        "Сейчас нам понадобятся типы:\n",
        "\n",
        "int - целое число (насколько большим оно может быть, зависит только от объема доступной памяти)\n",
        "\n",
        "float - вещественное число (double precision floating point numbers)\n",
        "\n",
        "### Задание 1.\n",
        "Вычислите значение выражения\n",
        "$$\n",
        "3\\left(2^{4}+6\\sin\\frac{\\pi}{4}-5\\sqrt{2}\\right)\n",
        "$$"
      ]
    },
    {
      "cell_type": "code",
      "source": [],
      "metadata": {
        "id": "B2Mnu-x8j3P4"
      },
      "execution_count": null,
      "outputs": []
    },
    {
      "cell_type": "markdown",
      "metadata": {
        "id": "G3b9I6dNycmr"
      },
      "source": [
        "## Символы, символьные выражения\n",
        "Для аналитических преобразований в sympy используется класс Symbol\n",
        "\n",
        "https://docs.sympy.org/latest/modules/core.html?highlight=symbol#module-sympy.core.symbol\n",
        "\n",
        "В этом классе есть метод Symbol для создания одного символа.\n",
        "###  Задание 2.\n",
        "Создайте символ $t$ и составьте выражение $\\frac{\\sqrt{t}+t^3}{t-1}$"
      ]
    },
    {
      "cell_type": "code",
      "source": [],
      "metadata": {
        "id": "mQW8Ur0Bj5jN"
      },
      "execution_count": null,
      "outputs": []
    },
    {
      "cell_type": "markdown",
      "metadata": {
        "id": "qMlP2YM5ycms"
      },
      "source": [
        "## Операции с символьными выражениями: simplify, expand,factor,collect\n",
        "#### simplify\n",
        "используется для упрощения выражения\n",
        "#### expand\n",
        "используется для раскрытия скобок\n",
        "#### factor\n",
        "для разложения на множители\n",
        "#### collect\n",
        "для группировки по степеням переменной\n",
        "###  Задание 3.\n",
        "Упростите выражение\n",
        "$$\n",
        "\\frac{(u+v)^2-4uv}{u-v}+2v-1\n",
        "$$"
      ]
    },
    {
      "cell_type": "code",
      "source": [],
      "metadata": {
        "id": "cF45EuOyj7RH"
      },
      "execution_count": null,
      "outputs": []
    },
    {
      "cell_type": "markdown",
      "metadata": {
        "id": "gasezWy-ycmt"
      },
      "source": [
        "###  Задание 4.\n",
        "Раскройте скобки в выражении $(a_1+a_2+a_3)^3-(a_1-a_2)^2$"
      ]
    },
    {
      "cell_type": "code",
      "source": [],
      "metadata": {
        "id": "AzNkVzdUj8c3"
      },
      "execution_count": null,
      "outputs": []
    },
    {
      "cell_type": "markdown",
      "metadata": {
        "id": "d9_rZkk7ycmt"
      },
      "source": [
        "###  Задание 5.\n",
        "Разложите на множители\n",
        "$2u^4+3u^3v-2u^2v^2-2u^2v-3uv^2+2v^3$"
      ]
    },
    {
      "cell_type": "code",
      "source": [],
      "metadata": {
        "id": "SN2UoNe0j9tn"
      },
      "execution_count": null,
      "outputs": []
    },
    {
      "cell_type": "markdown",
      "metadata": {
        "id": "Cnm5vka3ycmu"
      },
      "source": [
        "###  Задание 6.\n",
        "Сгруппируйте выражение из Задания 5 по степеням $u$."
      ]
    },
    {
      "cell_type": "code",
      "source": [],
      "metadata": {
        "id": "lIdg0LGAj_Dn"
      },
      "execution_count": null,
      "outputs": []
    },
    {
      "cell_type": "markdown",
      "metadata": {
        "id": "nvztFMwyycmv"
      },
      "source": [
        "## Списки и кортежи\n",
        "Нам понадобятся два итерируемых типа\n",
        "\n",
        "#### списки list\n",
        "изменяемый тип\n",
        "#### кортежи tuple\n",
        "неизменяемый тип\n",
        "\n",
        "### Задание 7\n",
        "Создайте список $Powers$ из трех кортежей, состоящих из символов $x$, $y$ и $z$ в степени, равной номеру кортежа в списке."
      ]
    },
    {
      "cell_type": "code",
      "source": [],
      "metadata": {
        "id": "eB3M6rKYkAMu"
      },
      "execution_count": null,
      "outputs": []
    },
    {
      "cell_type": "markdown",
      "metadata": {
        "id": "sE10eEvqycmv"
      },
      "source": [
        "### Задание 8\n",
        "В списке Powers Задания 7 заменить $(x^2,y^2,z^2)$ на (0,0,0)."
      ]
    },
    {
      "cell_type": "code",
      "source": [],
      "metadata": {
        "id": "MWU-uGoKkBl4"
      },
      "execution_count": null,
      "outputs": []
    },
    {
      "cell_type": "markdown",
      "metadata": {
        "id": "PmrUn7iVycmw"
      },
      "source": [
        "## Матрицы\n",
        "### Задание 9\n",
        "Составить матрицу  $A_{3\\times 4}$ из чисел вида $3k+1$, $k=1,2,...$:\n",
        "$$\n",
        "A=\n",
        "\\left(\n",
        "\\begin{matrix}\n",
        "4& 7& 10& 13\\\\\n",
        "16& 19& 22& 25\\\\\n",
        "28& 31& 34& 37\n",
        "\\end{matrix}\n",
        "\\right)\n",
        "$$"
      ]
    },
    {
      "cell_type": "code",
      "source": [],
      "metadata": {
        "id": "czeVDc4bkCva"
      },
      "execution_count": null,
      "outputs": []
    },
    {
      "cell_type": "markdown",
      "metadata": {
        "id": "lU6I_nCJycmw"
      },
      "source": [
        "### Задание 10\n",
        "В матрице А задания 9 удалить вторую строку и вставить третий столбец между первым и вторым (сам третий столбец не удалять!), должно получиться\n",
        "$$\n",
        "A=\n",
        "\\left(\n",
        "\\begin{matrix}\n",
        "4& 10& 7& 10& 13\\\\\n",
        "28& 34& 31& 34& 37\n",
        "\\end{matrix}\n",
        "\\right)\n",
        "$$"
      ]
    },
    {
      "cell_type": "code",
      "source": [],
      "metadata": {
        "id": "544NU03jkHOc"
      },
      "execution_count": null,
      "outputs": []
    },
    {
      "cell_type": "markdown",
      "metadata": {
        "id": "bSKQcn87ycmx"
      },
      "source": [
        "### Индивидуальное задание\n",
        "Составить матрицу левой части СЛАУ, вектор-столбец переменных, вектор-столбец правой части, вектор-столбец $X_0$. Показать, что $X_0$ является решением данной СЛАУ."
      ]
    },
    {
      "cell_type": "code",
      "source": [],
      "metadata": {
        "id": "HBmdwIp7kLmJ"
      },
      "execution_count": null,
      "outputs": []
    }
  ]
}